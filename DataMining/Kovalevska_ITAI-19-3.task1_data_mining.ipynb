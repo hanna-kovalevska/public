{
  "nbformat": 4,
  "nbformat_minor": 0,
  "metadata": {
    "colab": {
      "name": "task1_data_mining.ipynb",
      "provenance": [],
      "collapsed_sections": []
    },
    "kernelspec": {
      "display_name": "Python 3",
      "language": "python",
      "name": "python3"
    },
    "language_info": {
      "codemirror_mode": {
        "name": "ipython",
        "version": 3
      },
      "file_extension": ".py",
      "mimetype": "text/x-python",
      "name": "python",
      "nbconvert_exporter": "python",
      "pygments_lexer": "ipython3",
      "version": "3.8.5"
    }
  },
  "cells": [
    {
      "cell_type": "markdown",
      "metadata": {
        "id": "MIg7Bphark1L"
      },
      "source": [
        "## Ковалевская Анна ІТШІ-19-3\n"
      ]
    },
    {
      "cell_type": "markdown",
      "metadata": {
        "id": "HXiPVw_feCSb"
      },
      "source": [
        "## Завдання на лабораторну работу №1\n",
        "\n",
        "В цій лабораторної роботі Вам буде запропоновано вирішити кілька завдань скориставшись засобами мови python. Рішення кожного завдання передбачає написання коду і демонстрація його працездатності на прикладах.\n",
        "\n",
        "[зверніть увагу на типізацію функцій](https://docs.python.org/3/library/typing.html)\n",
        "\n",
        "```NB```: При написанні коду не забувайте видаляти ```pass```!"
      ]
    },
    {
      "cell_type": "markdown",
      "metadata": {
        "id": "IPQHbkSueCSf"
      },
      "source": [
        "Перед тим, як надіслати своє завдання на перевірку, вкажіть в назві файлу своє ім'я та прізвище!\n",
        "Наприклад: ```data_mining_task1_python_ana_de.ipynb```"
      ]
    },
    {
      "cell_type": "markdown",
      "metadata": {
        "id": "OE2qgEaeeCSg"
      },
      "source": [
        "Завдання 1: На вхід функція приймає рядок s. Функція повинна повернути True якщо рядок є паліндромом та False – в протилежному випадку.\n",
        "\n",
        "Наприклад: \n",
        "\n",
        "*   `is_palindrome(s='anade') -> False`\n",
        "*   `is_palindrome(s='ana') -> True`\n",
        "\n",
        "\n"
      ]
    },
    {
      "cell_type": "code",
      "metadata": {
        "id": "Kkp_Eb1jeCSg",
        "colab": {
          "base_uri": "https://localhost:8080/"
        },
        "outputId": "ba2225e9-953e-40a1-a102-2c812692d939"
      },
      "source": [
        "def is_palindrome(s: str) -> bool:\n",
        "\ta = list(s)\n",
        "\tn = len(s)\n",
        "\tb = ['']*n\n",
        "\tfor i in range(n):\n",
        "\t\tb[i]=a[n-1-i]\n",
        "\tc=\"\"\t\n",
        "\tfor i in range(n):\n",
        "\t\tc = c + b[i]\n",
        "\treturn (c==s)\n",
        " \n",
        "# print(is_palindrome(s='anade'))\n",
        "# print(is_palindrome(s='ana'))"
      ],
      "execution_count": null,
      "outputs": [
        {
          "output_type": "stream",
          "name": "stdout",
          "text": [
            "False\n",
            "True\n"
          ]
        }
      ]
    },
    {
      "cell_type": "markdown",
      "metadata": {
        "id": "IyJBIte7eCSh"
      },
      "source": [
        "Завдання 2: Розв’язати квадратне рівняння $ax^2+bx + c = 0$.  Напишіть функцію,яка приймає параметри квадратного рівняння, а повертає одне рішення або декілька.\n",
        "\n",
        "Наприклад:  \n",
        "\n",
        "\n",
        "```\n",
        "solve_quad(a=1, b=-2, c=1) -> 1  \n",
        "solve_quad(a=1, b=0, c=-1) -> (-1, 1)  \n",
        "solve_quad(a=0, b=2, c=-1) -> 0.5\n",
        "```\n",
        "\n",
        "\n",
        "\n",
        "\n",
        "\n",
        " "
      ]
    },
    {
      "cell_type": "code",
      "metadata": {
        "id": "T-fCGsPjeCSh",
        "colab": {
          "base_uri": "https://localhost:8080/"
        },
        "outputId": "507cc341-4833-4188-89b4-b3111b216218"
      },
      "source": [
        "def solve_quad(a: float, b: float, c: float):\n",
        "  if a == 0:\n",
        "    return -1*c/b\n",
        "  else:\n",
        "    d = b*b - 4*a*c\n",
        "    if d==0:\n",
        "      return -0.5 * b/a \n",
        "    else:\n",
        "      if d>0:\n",
        "        return ((-b - d**(0.5))/(2*a), (-b + d**(0.5))/(2*a))\n",
        "\n",
        "# print(solve_quad(a=1, b=-2, c=1))\n",
        "# print(solve_quad(a=1, b=0, c=-1))\n",
        "# print(solve_quad(a=0, b=2, c=-1))\n",
        "# print(solve_quad(a=4, b=7, c=5))"
      ],
      "execution_count": null,
      "outputs": [
        {
          "output_type": "stream",
          "name": "stdout",
          "text": [
            "1.0\n",
            "(-1.0, 1.0)\n",
            "0.5\n",
            "None\n"
          ]
        }
      ]
    },
    {
      "cell_type": "markdown",
      "metadata": {
        "id": "XTXSIYdYeCSh"
      },
      "source": [
        "Завдання 3: Реалізація функції merge. На вхід функція приймає 2 відсортованих масиви - `a` і `b`. Функція повинна повернути один відсортований масив, який містить всі елементи масивів `a` і `b`. \n",
        "\n",
        "Наприклад: `merge([1, 3, 3, 5], [3, 5, 5, 7]) -> [1, 3, 3, 3, 5, 5, 5, 7]`"
      ]
    },
    {
      "cell_type": "code",
      "metadata": {
        "id": "nfXKB-nveCSh",
        "colab": {
          "base_uri": "https://localhost:8080/"
        },
        "outputId": "95444e82-e741-4854-8934-f352093b64db"
      },
      "source": [
        "from typing import List\n",
        "\n",
        "def merge(a: List[int], b: List[int]) -> List[int]:\n",
        "  c = a + b\n",
        "  c.sort()\n",
        "  return c\n",
        "# print(merge([1, 3, 3, 5], [3, 5, 5, 7]))  "
      ],
      "execution_count": null,
      "outputs": [
        {
          "output_type": "stream",
          "name": "stdout",
          "text": [
            "[1, 3, 3, 3, 5, 5, 5, 7]\n"
          ]
        }
      ]
    },
    {
      "cell_type": "markdown",
      "metadata": {
        "id": "Z4zl4_cNeCSi"
      },
      "source": [
        "Завдання 4: Реалізація алгоритму [MergeSort](https://ru.wikipedia.org/wiki/%D0%A1%D0%BE%D1%80%D1%82%D0%B8%D1%80%D0%BE%D0%B2%D0%BA%D0%B0_%D1%81%D0%BB%D0%B8%D1%8F%D0%BD%D0%B8%D0%B5%D0%BC)..\n",
        "\n",
        "Наприклад: `MergeSort([3, 1, 3, 5]) -> [1, 3, 3, 5]`"
      ]
    },
    {
      "cell_type": "code",
      "metadata": {
        "id": "VhDE9sTyeCSi",
        "colab": {
          "base_uri": "https://localhost:8080/"
        },
        "outputId": "26e5057d-7823-4615-a5b4-831215459a8f"
      },
      "source": [
        "from typing import List\n",
        "\n",
        "def glue(a: List[int], b: List[int]) -> List[int]:\n",
        "    c = []\n",
        "    while len(a)*len(b) != 0:\n",
        "        if a[0]<b[0]:\n",
        "            c = c + [a[0]]\n",
        "            a.pop(0)\n",
        "        else:\n",
        "            c = c + [b[0]]\n",
        "            b.pop(0)\n",
        "        c = c + a + b\n",
        "        return c\n",
        "\n",
        "def MergeSort(L: List[int]) -> List[int]:\n",
        "  if len(L) == 1:\n",
        "    return L\n",
        "  else:\n",
        "    left = MergeSort(L[:int(len(L)/2)])\n",
        "    right = MergeSort(L[int(len(L)/2):])\n",
        "    L = glue(left, right)\n",
        "    return L\n",
        "\n",
        "# print(MergeSort([3, 1, 3, 5]))"
      ],
      "execution_count": null,
      "outputs": [
        {
          "output_type": "stream",
          "name": "stdout",
          "text": [
            "[1, 3, 3, 5]\n"
          ]
        }
      ]
    },
    {
      "cell_type": "markdown",
      "metadata": {
        "id": "oiEEW3IKeCSj"
      },
      "source": [
        "## Знайомство з numpy."
      ]
    },
    {
      "cell_type": "markdown",
      "metadata": {
        "id": "eEtj358ceCSj"
      },
      "source": [
        "Всі завдання з цієї частини передбачають написання функції на мові Python, а так само приклади роботи цієї функції. При реалізації завдань потрібно використовувати методи з бібліотеки `numpy`. Рішення з циклами будуть оцінені в 0 балів.\n",
        "\n",
        "[базова документація](http://www.numpy.org)\n",
        "\n",
        "```NB```: Під матрицею розуміється двовимірний [numpy.array](https://docs.scipy.org/doc/numpy/reference/generated/numpy.array.html)\n",
        "\n",
        "Для підключення модуля скористайтеся наступним рядком. \n",
        "Використовуйте стандартне скорочення np."
      ]
    },
    {
      "cell_type": "code",
      "metadata": {
        "id": "tpv_AzJzeCSj"
      },
      "source": [
        "import numpy as np"
      ],
      "execution_count": null,
      "outputs": []
    },
    {
      "cell_type": "markdown",
      "metadata": {
        "id": "syBtY_AReCSj"
      },
      "source": [
        "Cтворення одномірного і двомірного масивів методами numpy:"
      ]
    },
    {
      "cell_type": "code",
      "metadata": {
        "id": "yfm0zbHJeCSj",
        "colab": {
          "base_uri": "https://localhost:8080/"
        },
        "outputId": "6d809eb9-5048-41d4-870c-41037e0f4846"
      },
      "source": [
        "import numpy as np\n",
        "Ar1d = np.array([1, 2, 3], dtype=np.float64)\n",
        "print(Ar1d)"
      ],
      "execution_count": null,
      "outputs": [
        {
          "output_type": "stream",
          "name": "stdout",
          "text": [
            "[1. 2. 3.]\n"
          ]
        }
      ]
    },
    {
      "cell_type": "code",
      "metadata": {
        "id": "NO1tV1fteCSk",
        "colab": {
          "base_uri": "https://localhost:8080/"
        },
        "outputId": "9db16c07-afec-49f7-8e8e-1bd64681fcd9"
      },
      "source": [
        "import numpy as np\n",
        "Ar2d = np.array([[1, 2],[3, 4]], dtype=np.float)\n",
        "print(Ar2d)"
      ],
      "execution_count": null,
      "outputs": [
        {
          "output_type": "stream",
          "name": "stdout",
          "text": [
            "[[1. 2.]\n",
            " [3. 4.]]\n"
          ]
        }
      ]
    },
    {
      "cell_type": "markdown",
      "metadata": {
        "id": "NZns18uoeCSk"
      },
      "source": [
        "Завдання 6: Написати функцію яка на вхід приймає 3 масиви – `X, Y, Z`. функція повертатиме `True` у випадку, коли вони рівні та `False` – якщо ні.\n",
        "\n",
        "Рекомендація до завдання: Не використовуйте оператор `==`"
      ]
    },
    {
      "cell_type": "code",
      "metadata": {
        "id": "nzv5GOlqeCSl",
        "colab": {
          "base_uri": "https://localhost:8080/"
        },
        "outputId": "8a614cb9-efa9-4b4d-c5fb-85906fd17882"
      },
      "source": [
        "import numpy as np\n",
        "def is_equal(X, Y, Z):\n",
        "  return np.array_equal(X, Y) and np.array_equal(X, Z)\n",
        "\n",
        "# print(is_equal([1, 2, 3], [1, 2, 3], [1, 2, 4]))\n",
        "    "
      ],
      "execution_count": null,
      "outputs": [
        {
          "output_type": "stream",
          "name": "stdout",
          "text": [
            "False\n"
          ]
        }
      ]
    },
    {
      "cell_type": "markdown",
      "metadata": {
        "id": "4vYN-bnIeCSl"
      },
      "source": [
        "Завдання 7: написати функцію, яка приймає на вході вектор рядок, а повертає вектор стовбець.\n",
        "\n",
        "Рекомендація до завдання: Забороняється використовувати операцію транспонування! Скористайтесь методом `reshape`."
      ]
    },
    {
      "cell_type": "code",
      "metadata": {
        "id": "cwnufrdPeCSl",
        "colab": {
          "base_uri": "https://localhost:8080/"
        },
        "outputId": "37a53669-ecf0-48fa-aba6-9714a05458f4"
      },
      "source": [
        "import numpy\n",
        "def rot_vec(x):\n",
        "    return numpy.reshape(x,newshape=(len(x), 1), order = 'F')\n",
        "\n",
        "# print(rot_vec((1, 2, 3)))"
      ],
      "execution_count": null,
      "outputs": [
        {
          "output_type": "stream",
          "name": "stdout",
          "text": [
            "[[1]\n",
            " [2]\n",
            " [3]]\n"
          ]
        }
      ]
    },
    {
      "cell_type": "markdown",
      "metadata": {
        "id": "uvi-JOAheCSl"
      },
      "source": [
        "Завдання 8: Написати функцію яка приймає на вхід двовимірний масив, а повертає масив з діагональними елементами цієї матриці. \n",
        "\n",
        "Наприклад: `[[1, 2], [3, 4]] -> [1 4]`"
      ]
    },
    {
      "cell_type": "code",
      "metadata": {
        "id": "uBSPXOJkeCSl",
        "colab": {
          "base_uri": "https://localhost:8080/"
        },
        "outputId": "12bf6d74-46ad-4c39-ddd6-022e7baa6ac0"
      },
      "source": [
        "import numpy\n",
        "def get_diag(X):\n",
        "  return numpy.diagonal(X)\n",
        "\n",
        "# print(get_diag([[1, 2], [3, 4]]))\n",
        "    "
      ],
      "execution_count": null,
      "outputs": [
        {
          "output_type": "stream",
          "name": "stdout",
          "text": [
            "[1 4]\n"
          ]
        }
      ]
    },
    {
      "cell_type": "markdown",
      "metadata": {
        "id": "PvwgIU1veCSm"
      },
      "source": [
        "Завдання 9: Написати функцію яка приймає на вхід двомірний масив, а повертає масив елементів які знаходяться на другорядній діагоналі. Приклад: `[[1, 2], [3, 4]] -> [2 3]`"
      ]
    },
    {
      "cell_type": "code",
      "metadata": {
        "id": "zIRKjQofeCSm",
        "colab": {
          "base_uri": "https://localhost:8080/"
        },
        "outputId": "8883c5fd-c896-4f68-c00c-064072b05fae"
      },
      "source": [
        "import numpy\n",
        "def sec_diag(X):\n",
        "    return numpy.fliplr(X).diagonal()\n",
        "# print(sec_diag([[1, 2], [3, 4]]))"
      ],
      "execution_count": null,
      "outputs": [
        {
          "output_type": "stream",
          "name": "stdout",
          "text": [
            "[2 3]\n"
          ]
        }
      ]
    },
    {
      "cell_type": "markdown",
      "metadata": {
        "id": "TQ61tk7SeCSm"
      },
      "source": [
        "## Робота з бібліотекою pandas\n",
        "\n",
        "В наступній частині лабораторної роботи розглянемо бібліотеку pandas.\n",
        "Перед виконанням цієї частини необхідно завантажити датасет за посиланням:\n",
        "[titanic.csv](https://gist.github.com/michhar/2dfd2de0d4f8727f873422c5d959fff5)\n",
        "\n",
        "[основна документація цього розділу](https://pandas.pydata.org/)"
      ]
    },
    {
      "cell_type": "code",
      "metadata": {
        "id": "Fbe_qcF0eCSm"
      },
      "source": [
        "import pandas as pd\n",
        "\n",
        "# Завантажте датасет. Ознайомтесь з тим як це правильно зробити, уважно прочитавши документацію по функції pd.read_csv.\n",
        "# Зверніть особливу увагу на роздільники датасета. \n",
        "\n",
        "dataset = pd.read_csv('https://raw.githubusercontent.com/datasciencedojo/datasets/master/titanic.csv', sep=',')"
      ],
      "execution_count": null,
      "outputs": []
    },
    {
      "cell_type": "markdown",
      "metadata": {
        "id": "qTxYBLWdeCSm"
      },
      "source": [
        "Завдання 10: Кого більше - чоловіків чи жінок?"
      ]
    },
    {
      "cell_type": "code",
      "metadata": {
        "id": "58MgIBEleCSm",
        "colab": {
          "base_uri": "https://localhost:8080/"
        },
        "outputId": "79d98760-441c-4372-a1cd-ba944371b53e"
      },
      "source": [
        "import pandas as pd\n",
        "dataset = pd.read_csv('https://raw.githubusercontent.com/datasciencedojo/datasets/master/titanic.csv', sep=',')\n",
        "print((dataset.groupby('Sex').PassengerId.count()))"
      ],
      "execution_count": null,
      "outputs": [
        {
          "output_type": "stream",
          "name": "stdout",
          "text": [
            "Sex\n",
            "female    314\n",
            "male      577\n",
            "Name: PassengerId, dtype: int64\n"
          ]
        }
      ]
    },
    {
      "cell_type": "markdown",
      "metadata": {
        "id": "ApLZCvNveCSm"
      },
      "source": [
        "Завдання 11: Виведіть наступні характеристики пасажирів: середній вік пасажирів, середній вік чоловіків, середній вік жінок, максимальний і мінімальний вік серед чоловіків і жінок."
      ]
    },
    {
      "cell_type": "code",
      "metadata": {
        "id": "Sg59NcqLeCSn",
        "colab": {
          "base_uri": "https://localhost:8080/"
        },
        "outputId": "f3070372-637a-4882-f771-eafd4567fcf9"
      },
      "source": [
        "import pandas as pd\n",
        "dataset = pd.read_csv('https://raw.githubusercontent.com/datasciencedojo/datasets/master/titanic.csv', sep=',')\n",
        "print('Средний возраст:', (dataset.Age.mean()))\n",
        "print((dataset.groupby('Sex').Age.mean()))\n",
        "print('Минимальный возраст:', (dataset.groupby('Sex').Age.min()))\n",
        "print('Максимальный возраст:', (dataset.groupby('Sex').Age.max()))"
      ],
      "execution_count": null,
      "outputs": [
        {
          "output_type": "stream",
          "name": "stdout",
          "text": [
            "Средний возраст: 29.69911764705882\n",
            "Sex\n",
            "female    27.915709\n",
            "male      30.726645\n",
            "Name: Age, dtype: float64\n",
            "Минимальный возраст: Sex\n",
            "female    0.75\n",
            "male      0.42\n",
            "Name: Age, dtype: float64\n",
            "Максимальный возраст: Sex\n",
            "female    63.0\n",
            "male      80.0\n",
            "Name: Age, dtype: float64\n"
          ]
        }
      ]
    },
    {
      "cell_type": "markdown",
      "metadata": {
        "id": "P5zkuX9VeCSn"
      },
      "source": [
        " ## Знайомство з бібліотекою matplotlib "
      ]
    },
    {
      "cell_type": "markdown",
      "metadata": {
        "id": "cYyqxB4MeCSn"
      },
      "source": [
        "Для початку ознайомтесь з [документацією](https://matplotlib.org/)"
      ]
    },
    {
      "cell_type": "markdown",
      "metadata": {
        "id": "pEt3gexreCSn"
      },
      "source": [
        "Завдання 12: Побудувати задані функції: \n",
        "\n",
        "$f_{1}(x) =  \\frac{sin(x)}{x}$\n",
        "\n",
        "$f_{2}(x) =  \\frac{cos(x)}{x^2 + 1}$\n",
        "\n",
        "$f_{3}(x) =  cos^2(x) - \\frac{sin(x)}{2}$  \n",
        "\n",
        "$f_{4}(x) =  cos(x)$  \n",
        "\n",
        "$f_{5}(x) =  \\frac{sin(x)}{x^2 + 1}$"
      ]
    },
    {
      "cell_type": "markdown",
      "metadata": {
        "id": "YJ0pmkTo8S1D"
      },
      "source": [
        "зробити візуалізацію заданих функцій  \n",
        "нижче наведені стандартні праклади"
      ]
    },
    {
      "cell_type": "code",
      "metadata": {
        "id": "YVT6yXXqeCSn"
      },
      "source": [
        "from matplotlib import pylab as plt\n",
        "%matplotlib inline"
      ],
      "execution_count": null,
      "outputs": []
    },
    {
      "cell_type": "code",
      "metadata": {
        "id": "UtB89oaVeCSn",
        "colab": {
          "base_uri": "https://localhost:8080/",
          "height": 285
        },
        "outputId": "5e19d7ec-a49e-4691-83e1-e967184a621a"
      },
      "source": [
        "from matplotlib import pylab as plt\n",
        "%matplotlib inline\n",
        "x = [i for i in range (50)]\n",
        "y = [i**2 for i in range (50)]\n",
        "plt.plot(x,y)"
      ],
      "execution_count": null,
      "outputs": [
        {
          "output_type": "execute_result",
          "data": {
            "text/plain": [
              "[<matplotlib.lines.Line2D at 0x7f6e5f87cb50>]"
            ]
          },
          "metadata": {},
          "execution_count": 17
        },
        {
          "output_type": "display_data",
          "data": {
            "image/png": "[encoded data removed]",
            "text/plain": [
              "<Figure size 432x288 with 1 Axes>"
            ]
          },
          "metadata": {
            "needs_background": "light"
          }
        }
      ]
    },
    {
      "cell_type": "code",
      "metadata": {
        "id": "tCJ2CuOAeCSo",
        "colab": {
          "base_uri": "https://localhost:8080/",
          "height": 265
        },
        "outputId": "18f818fe-b3b1-461f-ee6e-bbab788eb445"
      },
      "source": [
        "import matplotlib.pyplot as plt\n",
        "import numpy as np\n",
        "\n",
        "x = np.arange(-10, 10, 0.01)\n",
        "\n",
        "y1 = np.sin(x) / x\n",
        "y2 = np.cos(x) / (1. + x ** 2)\n",
        "y3 = np.cos(x) * np.cos(x) - np.sin(x) / 2.\n",
        "y4 = np.cos(x)\n",
        "y5 = np.sin(x) / (1. + x ** 2)\n",
        "\n",
        "plt.plot(x, y1, linestyle = ':', linewidth = 2, color = 'darkblue')\n",
        "plt.plot(x, y2, linestyle = '--', linewidth = 2, color = 'indigo')\n",
        "plt.plot(x, y3, linestyle = '-.', color = 'darkred')\n",
        "plt.plot(x, y4, linewidth = 1)\n",
        "plt.plot(x, y5)\n",
        "plt.show()"
      ],
      "execution_count": 18,
      "outputs": [
        {
          "output_type": "display_data",
          "data": {
            "image/png": "[encoded data removed]",
            "text/plain": [
              "<Figure size 432x288 with 1 Axes>"
            ]
          },
          "metadata": {
            "needs_background": "light"
          }
        }
      ]
    },
    {
      "cell_type": "markdown",
      "metadata": {
        "id": "Tg-QmR-eeCSp"
      },
      "source": [
        "Завдання 13: Побудувати графік щільності розподілу випадкової величини."
      ]
    },
    {
      "cell_type": "markdown",
      "metadata": {
        "id": "fPIuwCin8S1H"
      },
      "source": [
        "зробити візуалізації задоної випадкової величини"
      ]
    },
    {
      "cell_type": "code",
      "metadata": {
        "id": "rBQNcArUeCSp",
        "colab": {
          "base_uri": "https://localhost:8080/",
          "height": 279
        },
        "outputId": "ff1d500e-eaca-4e87-968b-07adedec08dc"
      },
      "source": [
        "import matplotlib.pyplot as plt\n",
        "import numpy as np\n",
        "\n",
        "d = np.random.normal(loc=1, scale=12, size=1000)\n",
        "plt.hist(d, facecolor='orange')\n",
        "plt.xlabel('Величина')\n",
        "plt.ylabel('Количество')\n",
        "plt.show()"
      ],
      "execution_count": 27,
      "outputs": [
        {
          "output_type": "display_data",
          "data": {
            "image/png": "[encoded data removed]",
            "text/plain": [
              "<Figure size 432x288 with 1 Axes>"
            ]
          },
          "metadata": {
            "needs_background": "light"
          }
        }
      ]
    }
  ]
}